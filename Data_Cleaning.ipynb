{
  "nbformat": 4,
  "nbformat_minor": 0,
  "metadata": {
    "colab": {
      "provenance": [],
      "authorship_tag": "ABX9TyPKTox2EhXtFNrI6GKnUg1C",
      "include_colab_link": true
    },
    "kernelspec": {
      "name": "python3",
      "display_name": "Python 3"
    },
    "language_info": {
      "name": "python"
    }
  },
  "cells": [
    {
      "cell_type": "markdown",
      "metadata": {
        "id": "view-in-github",
        "colab_type": "text"
      },
      "source": [
        "<a href=\"https://colab.research.google.com/github/BiniyamAFirde/skills-introduction-to-github/blob/main/Data_Cleaning.ipynb\" target=\"_parent\"><img src=\"https://colab.research.google.com/assets/colab-badge.svg\" alt=\"Open In Colab\"/></a>"
      ]
    },
    {
      "cell_type": "markdown",
      "source": [
        "#DATA CLEANING"
      ],
      "metadata": {
        "id": "7xAEs0QOfJtv"
      }
    },
    {
      "cell_type": "markdown",
      "source": [
        "Dataset 1"
      ],
      "metadata": {
        "id": "u9ETslm4fU9T"
      }
    },
    {
      "cell_type": "code",
      "source": [
        "import pandas as pd\n",
        "from google.colab import files\n",
        "\n",
        "# Load the dataset\n",
        "file_path = '/content/Catches by fishing Area.csv'\n",
        "df = pd.read_csv(file_path)\n",
        "print(df.head())\n",
        "# Remove specified columns\n",
        "columns_to_remove = ['DATAFLOW', 'LAST UPDATE', 'freq', 'fishreg', 'geo', 'unit', 'OBS_FLAG']\n",
        "df = df.drop(columns=columns_to_remove)\n",
        "\n",
        "# Rename the OBS_VALUE column\n",
        "df = df.rename(columns={'OBS_VALUE': 'OBS_VALUE in unit (TLW)'})\n",
        "\n",
        "# Remove rows where the 'species' column starts with \"F01\"\n",
        "df = df[~df['species'].str.startswith('F01', na=False)]\n",
        "\n",
        "new_file_path = 'dataset1.csv'\n",
        "df.to_csv(new_file_path, index=False)\n",
        "print(df.head())\n"
      ],
      "metadata": {
        "id": "QzCrG6a1fYPC",
        "colab": {
          "base_uri": "https://localhost:8080/"
        },
        "outputId": "57c957f7-bb6a-4fe4-e334-571a80b66a66"
      },
      "execution_count": null,
      "outputs": [
        {
          "output_type": "stream",
          "name": "stdout",
          "text": [
            "                   DATAFLOW        LAST UPDATE freq species  fishreg unit geo  \\\n",
            "0  ESTAT:FISH_CA_ATL37(1.0)  03/10/24 23:00:00    A     F00       37  TLW  HR   \n",
            "1  ESTAT:FISH_CA_ATL37(1.0)  03/10/24 23:00:00    A     F00       37  TLW  HR   \n",
            "2  ESTAT:FISH_CA_ATL37(1.0)  03/10/24 23:00:00    A     F00       37  TLW  HR   \n",
            "3  ESTAT:FISH_CA_ATL37(1.0)  03/10/24 23:00:00    A     F00       37  TLW  HR   \n",
            "4  ESTAT:FISH_CA_ATL37(1.0)  03/10/24 23:00:00    A     F00       37  TLW  HR   \n",
            "\n",
            "   TIME_PERIOD  OBS_VALUE  OBS_FLAG  \n",
            "0         2000    21051.2       NaN  \n",
            "1         2001    18464.0       NaN  \n",
            "2         2002    21210.5       NaN  \n",
            "3         2003    19938.0       NaN  \n",
            "4         2004    30135.1       NaN  \n",
            "  species  TIME_PERIOD  OBS_VALUE in unit (TLW)\n",
            "0     F00         2000                  21051.2\n",
            "1     F00         2001                  18464.0\n",
            "2     F00         2002                  21210.5\n",
            "3     F00         2003                  19938.0\n",
            "4     F00         2004                  30135.1\n"
          ]
        }
      ]
    },
    {
      "cell_type": "code",
      "source": [
        "import pandas as pd\n",
        "\n",
        "\n",
        "file_path = '/content/dataset1.csv'\n",
        "df = pd.read_csv(file_path)\n",
        "\n",
        "# Filter the data to include only rows with TIME_PERIOD between 2011 and 2022\n",
        "df = df[(df['TIME_PERIOD'] >= 2011) & (df['TIME_PERIOD'] <= 2022)]\n",
        "\n",
        "# Rename the column 'OBS_VALUE in unit (TLW)' to 'Catch Weight in unit (TLW)'\n",
        "df = df.rename(columns={'OBS_VALUE in unit (TLW)': 'Catch Weight in unit (TLW)'})\n",
        "\n",
        "# Remove the 'species' column\n",
        "if 'species' in df.columns:\n",
        "    df = df.drop(columns=['species'])\n",
        "\n",
        "modified_file_path = 'dataset_one.csv'\n",
        "df.to_csv(modified_file_path, index=False)\n",
        "print(df.head())"
      ],
      "metadata": {
        "id": "1Efb0UvCnrGx",
        "colab": {
          "base_uri": "https://localhost:8080/"
        },
        "outputId": "13f4afb9-6c59-45c2-ad81-30b5a2b36cca"
      },
      "execution_count": null,
      "outputs": [
        {
          "output_type": "stream",
          "name": "stdout",
          "text": [
            "    TIME_PERIOD  Catch Weight in unit (TLW)\n",
            "11         2011                  70534.0200\n",
            "12         2012                  63599.0200\n",
            "13         2013                  75267.2310\n",
            "14         2014                  79944.5442\n",
            "15         2015                  73487.6321\n"
          ]
        }
      ]
    },
    {
      "cell_type": "markdown",
      "source": [
        "Dataset 2"
      ],
      "metadata": {
        "id": "IoikGjnhiXjl"
      }
    },
    {
      "cell_type": "code",
      "source": [
        "import pandas as pd\n",
        "\n",
        "\n",
        "file_path = '/content/Input to capture-based aquaculture.csv'\n",
        "df = pd.read_csv(file_path)\n",
        "\n",
        "# Remove specified columns\n",
        "columns_to_remove = ['DATAFLOW', 'LAST UPDATE', 'freq', 'geo', 'unit', 'OBS_FLAG']\n",
        "df = df.drop(columns=columns_to_remove)\n",
        "\n",
        "# Save\n",
        "new_file_path = 'cleaned2_fishing_areas.csv'\n",
        "df.to_csv(new_file_path, index=False)\n",
        "print(df.head())\n",
        "\n",
        "\n"
      ],
      "metadata": {
        "colab": {
          "base_uri": "https://localhost:8080/"
        },
        "id": "B77j3CqcibQM",
        "outputId": "e2913f18-ebab-4aed-fc3a-72374f6fc56e"
      },
      "execution_count": null,
      "outputs": [
        {
          "output_type": "stream",
          "name": "stdout",
          "text": [
            "  species  TIME_PERIOD  OBS_VALUE\n",
            "0     F00         2008     814.60\n",
            "1     F00         2010     353.70\n",
            "2     F00         2011     361.55\n",
            "3     F00         2012     378.36\n",
            "4     F00         2013     378.36\n"
          ]
        }
      ]
    },
    {
      "cell_type": "code",
      "source": [
        "import pandas as pd\n",
        "\n",
        "\n",
        "file_path = '/content/cleaned2_fishing_areas.csv'\n",
        "df = pd.read_csv(file_path)\n",
        "\n",
        "\n",
        "# Rename the OBS_VALUE column\n",
        "df = df.rename(columns={'OBS_VALUE': 'OBS_VALUE in unit (TLW)'})\n",
        "\n",
        "# Remove rows where the 'species' column starts with \"F01\"\n",
        "df = df[~df['species'].str.startswith('F01', na=False)]\n",
        "\n",
        "new_file_path = 'dataset2.csv'\n",
        "df.to_csv(new_file_path, index=False)\n",
        "print(df.head())"
      ],
      "metadata": {
        "colab": {
          "base_uri": "https://localhost:8080/"
        },
        "id": "Owzbe9ejizce",
        "outputId": "62e0bef9-4a1b-44b4-a188-26c52eb3983a"
      },
      "execution_count": null,
      "outputs": [
        {
          "output_type": "stream",
          "name": "stdout",
          "text": [
            "  species  TIME_PERIOD  OBS_VALUE in unit (TLW)\n",
            "0     F00         2008                   814.60\n",
            "1     F00         2010                   353.70\n",
            "2     F00         2011                   361.55\n",
            "3     F00         2012                   378.36\n",
            "4     F00         2013                   378.36\n"
          ]
        }
      ]
    },
    {
      "cell_type": "code",
      "source": [
        "import pandas as pd\n",
        "\n",
        "file_path = '/content/dataset2.csv'\n",
        "df = pd.read_csv(file_path)\n",
        "\n",
        "# Filter the data to include only rows with TIME_PERIOD between 2011 and 2022 (inclusive)\n",
        "df = df[(df['TIME_PERIOD'] >= 2011) & (df['TIME_PERIOD'] <= 2022)]\n",
        "\n",
        "# Rename the column 'OBS_VALUE in unit (TLW)' to 'Catch Weight in unit (TLW)'\n",
        "df = df.rename(columns={'OBS_VALUE in unit (TLW)': 'Input Weight for Capture-based Aquaculture in unit (TLW)'})\n",
        "\n",
        "# Remove the 'species' column\n",
        "if 'species' in df.columns:\n",
        "    df = df.drop(columns=['species'])\n",
        "\n",
        "modified_file_path = 'dataset_two.csv'\n",
        "df.to_csv(modified_file_path, index=False)\n",
        "print(df.head())"
      ],
      "metadata": {
        "id": "qqMd_7lyokdw",
        "colab": {
          "base_uri": "https://localhost:8080/"
        },
        "outputId": "54f0cb89-9069-4e89-d25b-631928d41e32"
      },
      "execution_count": null,
      "outputs": [
        {
          "output_type": "stream",
          "name": "stdout",
          "text": [
            "   TIME_PERIOD  Input Weight for Capture-based Aquaculture in unit (TLW)\n",
            "2         2011                                             361.55       \n",
            "3         2012                                             378.36       \n",
            "4         2013                                             378.36       \n",
            "5         2014                                             376.30       \n",
            "6         2015                                             436.22       \n"
          ]
        }
      ]
    },
    {
      "cell_type": "markdown",
      "source": [
        "Dataset 3"
      ],
      "metadata": {
        "id": "9FQT4jIYjQTL"
      }
    },
    {
      "cell_type": "code",
      "source": [
        "import pandas as pd\n",
        "\n",
        "file_path = '/content/Production from aquaculture excluding hatcheries and nurseries (from 2008 onwards).csv'\n",
        "df = pd.read_csv(file_path)\n",
        "\n",
        "# Remove specified columns\n",
        "columns_to_remove = ['DATAFLOW', 'LAST UPDATE','aquameth','aquaenv', 'freq', 'fishreg', 'geo', 'unit', 'OBS_FLAG']\n",
        "df = df.drop(columns=columns_to_remove)\n",
        "\n",
        "new_file_path = 'cleaned3_fishing_areas.csv'\n",
        "df.to_csv(new_file_path, index=False)\n",
        "print(df.head())"
      ],
      "metadata": {
        "id": "uhrBaWldjSJx",
        "colab": {
          "base_uri": "https://localhost:8080/"
        },
        "outputId": "98cd6acd-3051-4539-be1b-2b168cd9a118"
      },
      "execution_count": null,
      "outputs": [
        {
          "output_type": "stream",
          "name": "stdout",
          "text": [
            "  species  TIME_PERIOD  OBS_VALUE\n",
            "0     F00         2008   16386.50\n",
            "1     F00         2009   16328.55\n",
            "2     F00         2010   15686.00\n",
            "3     F00         2011   17189.00\n",
            "4     F00         2012   13921.45\n"
          ]
        }
      ]
    },
    {
      "cell_type": "code",
      "source": [
        "import pandas as pd\n",
        "\n",
        "file_path = '/content/cleaned3_fishing_areas.csv'\n",
        "df = pd.read_csv(file_path)\n",
        "\n",
        "\n",
        "# Rename the OBS_VALUE column\n",
        "df = df.rename(columns={'OBS_VALUE': 'OBS_VALUE in unit (TLW)'})\n",
        "\n",
        "# Remove rows where the 'species' column starts with \"F01\"\n",
        "df = df[~df['species'].str.startswith('F01', na=False)]\n",
        "\n",
        "new_file_path = 'dataset3.csv'\n",
        "df.to_csv(new_file_path, index=False)\n",
        "print(df.head())"
      ],
      "metadata": {
        "id": "ax2pt3RpkFni",
        "colab": {
          "base_uri": "https://localhost:8080/"
        },
        "outputId": "ce166ba4-c1a5-4e94-9698-aa33a799e470"
      },
      "execution_count": null,
      "outputs": [
        {
          "output_type": "stream",
          "name": "stdout",
          "text": [
            "  species  TIME_PERIOD  OBS_VALUE in unit (TLW)\n",
            "0     F00         2008                 16386.50\n",
            "1     F00         2009                 16328.55\n",
            "2     F00         2010                 15686.00\n",
            "3     F00         2011                 17189.00\n",
            "4     F00         2012                 13921.45\n"
          ]
        }
      ]
    },
    {
      "cell_type": "code",
      "source": [
        "import pandas as pd\n",
        "\n",
        "file_path = '/content/dataset3.csv'\n",
        "df = pd.read_csv(file_path)\n",
        "\n",
        "# Filter the data to include only rows with TIME_PERIOD between 2011 and 2022\n",
        "df = df[(df['TIME_PERIOD'] >= 2011) & (df['TIME_PERIOD'] <= 2022)]\n",
        "\n",
        "# Rename the column 'OBS_VALUE in unit (TLW)' to 'Catch Weight in unit (TLW)'\n",
        "df = df.rename(columns={'OBS_VALUE in unit (TLW)': 'Aquaculture Production in unit (TLW)'})\n",
        "\n",
        "# Remove the 'species' column\n",
        "if 'species' in df.columns:\n",
        "    df = df.drop(columns=['species'])\n",
        "\n",
        "modified_file_path = 'dataset_three.csv'\n",
        "df.to_csv(modified_file_path, index=False)\n",
        "print(df.head())"
      ],
      "metadata": {
        "id": "ioySSOk6pbNt",
        "colab": {
          "base_uri": "https://localhost:8080/"
        },
        "outputId": "48072696-dc1d-4988-d798-a73e3dad86ed"
      },
      "execution_count": null,
      "outputs": [
        {
          "output_type": "stream",
          "name": "stdout",
          "text": [
            "   TIME_PERIOD  Aquaculture Production in unit (TLW)\n",
            "3         2011                              17189.00\n",
            "4         2012                              13921.45\n",
            "5         2013                              13719.71\n",
            "6         2014                              13767.80\n",
            "7         2015                              16875.10\n"
          ]
        }
      ]
    },
    {
      "cell_type": "markdown",
      "source": [
        "Dataset 4"
      ],
      "metadata": {
        "id": "77blVeIQkVIT"
      }
    },
    {
      "cell_type": "code",
      "source": [
        "import pandas as pd\n",
        "\n",
        "\n",
        "file_path = '/content/Production of hatcheries and nurseries at juveniles stage in life cycle (from 2008 onwards).csv'\n",
        "df = pd.read_csv(file_path)\n",
        "\n",
        "# Remove specified columns\n",
        "columns_to_remove = ['DATAFLOW', 'LAST UPDATE','dest_use', 'freq', 'geo', 'unit', 'OBS_FLAG']\n",
        "df = df.drop(columns=columns_to_remove)\n",
        "\n",
        "new_file_path = 'cleaned4_fishing_areas.csv'\n",
        "df.to_csv(new_file_path, index=False)\n",
        "print(df.head())"
      ],
      "metadata": {
        "id": "MNyYEIyRkXoT",
        "colab": {
          "base_uri": "https://localhost:8080/"
        },
        "outputId": "6bab7c05-6e75-4c09-88c3-54bd13966c43"
      },
      "execution_count": null,
      "outputs": [
        {
          "output_type": "stream",
          "name": "stdout",
          "text": [
            "  species  TIME_PERIOD  OBS_VALUE\n",
            "0     F00         2010      99.00\n",
            "1     F00         2011      80.39\n",
            "2     F00         2012     128.76\n",
            "3     F00         2013     122.29\n",
            "4     F00         2014     136.00\n"
          ]
        }
      ]
    },
    {
      "cell_type": "code",
      "source": [
        "import pandas as pd\n",
        "\n",
        "\n",
        "file_path = '/content/cleaned4_fishing_areas.csv'\n",
        "df = pd.read_csv(file_path)\n",
        "\n",
        "\n",
        "# Rename the OBS_VALUE column\n",
        "df = df.rename(columns={'OBS_VALUE': 'OBS_VALUE in unit (MIO)'})\n",
        "\n",
        "# Remove rows where the 'species' column starts with \"F01\"\n",
        "df = df[~df['species'].str.startswith('F01', na=False)]\n",
        "\n",
        "new_file_path = 'dataset4.csv'\n",
        "df.to_csv(new_file_path, index=False)\n",
        "print(df.head())"
      ],
      "metadata": {
        "id": "BPFBCRiSlEqh",
        "colab": {
          "base_uri": "https://localhost:8080/"
        },
        "outputId": "f6234cbc-1725-4e11-a48c-45f6a9d68857"
      },
      "execution_count": null,
      "outputs": [
        {
          "output_type": "stream",
          "name": "stdout",
          "text": [
            "  species  TIME_PERIOD  OBS_VALUE in unit (MIO)\n",
            "0     F00         2010                    99.00\n",
            "1     F00         2011                    80.39\n",
            "2     F00         2012                   128.76\n",
            "3     F00         2013                   122.29\n",
            "4     F00         2014                   136.00\n"
          ]
        }
      ]
    },
    {
      "cell_type": "code",
      "source": [
        "import pandas as pd\n",
        "\n",
        "\n",
        "file_path = '/content/dataset4.csv'\n",
        "df = pd.read_csv(file_path)\n",
        "\n",
        "# Filter the data to include only rows with TIME_PERIOD between 2011 and 2022 (inclusive)\n",
        "df = df[(df['TIME_PERIOD'] >= 2011) & (df['TIME_PERIOD'] <= 2022)]\n",
        "\n",
        "# Rename the column 'OBS_VALUE in unit (TLW)' to 'Catch Weight in unit (TLW)'\n",
        "df = df.rename(columns={'OBS_VALUE in unit (MIO)': 'Aquaculture  Production at Juvenile stage in unit (MIO)'})\n",
        "\n",
        "# Remove the 'species' column\n",
        "if 'species' in df.columns:\n",
        "    df = df.drop(columns=['species'])\n",
        "\n",
        "modified_file_path = 'dataset_four.csv'\n",
        "df.to_csv(modified_file_path, index=False)\n",
        "print(df.head())"
      ],
      "metadata": {
        "id": "7kRoyWmHrSpw",
        "colab": {
          "base_uri": "https://localhost:8080/"
        },
        "outputId": "a82d9554-4a98-4ca5-a671-d5b7e8355c45"
      },
      "execution_count": null,
      "outputs": [
        {
          "output_type": "stream",
          "name": "stdout",
          "text": [
            "   TIME_PERIOD  Aquaculture  Production at Juvenile stage in unit (MIO)\n",
            "1         2011                                              80.39      \n",
            "2         2012                                             128.76      \n",
            "3         2013                                             122.29      \n",
            "4         2014                                             136.00      \n",
            "5         2015                                             111.03      \n"
          ]
        }
      ]
    },
    {
      "cell_type": "markdown",
      "source": [
        "Dataset 5"
      ],
      "metadata": {
        "id": "gpBItLIOlM3v"
      }
    },
    {
      "cell_type": "code",
      "source": [
        "import pandas as pd\n",
        "\n",
        "\n",
        "file_path = '/content/Landings of fishery products.csv'\n",
        "df = pd.read_csv(file_path)\n",
        "\n",
        "# Remove specified columns\n",
        "columns_to_remove = ['DATAFLOW', 'LAST UPDATE','dest_use','natvessr','pres', 'freq', 'geo', 'unit', 'OBS_FLAG']\n",
        "df = df.drop(columns=columns_to_remove)\n",
        "\n",
        "new_file_path = 'cleaned5_fishing_areas.csv'\n",
        "df.to_csv(new_file_path, index=False)\n",
        "print(df.head())"
      ],
      "metadata": {
        "id": "NxAhNUc0lPBd",
        "colab": {
          "base_uri": "https://localhost:8080/"
        },
        "outputId": "a5b7362a-c4ca-4e83-c840-726d0794dcc3"
      },
      "execution_count": null,
      "outputs": [
        {
          "output_type": "stream",
          "name": "stdout",
          "text": [
            "  species  TIME_PERIOD   OBS_VALUE\n",
            "0     F00         2011  69700.7450\n",
            "1     F00         2012  62349.2100\n",
            "2     F00         2013  74704.8170\n",
            "3     F00         2014  79421.6943\n",
            "4     F00         2015  72919.2410\n"
          ]
        }
      ]
    },
    {
      "cell_type": "code",
      "source": [
        "import pandas as pd\n",
        "\n",
        "file_path = '/content/cleaned5_fishing_areas.csv'\n",
        "df = pd.read_csv(file_path)\n",
        "\n",
        "# Rename the OBS_VALUE column\n",
        "df = df.rename(columns={'OBS_VALUE': 'OBS_VALUE in unit (TPW)'})\n",
        "\n",
        "# Remove rows where the 'species' column starts with \"F01\"\n",
        "df = df[~df['species'].str.startswith('F01', na=False)]\n",
        "\n",
        "new_file_path = 'cleanednew5_fishing_areas.csv'\n",
        "df.to_csv(new_file_path, index=False)\n",
        "print(df.head())"
      ],
      "metadata": {
        "id": "d4ZFNF_cls6x",
        "colab": {
          "base_uri": "https://localhost:8080/"
        },
        "outputId": "38cf3a91-fa8d-46c7-c7d1-b204c5cd29e3"
      },
      "execution_count": null,
      "outputs": [
        {
          "output_type": "stream",
          "name": "stdout",
          "text": [
            "  species  TIME_PERIOD  OBS_VALUE in unit (TPW)\n",
            "0     F00         2011               69700.7450\n",
            "1     F00         2012               62349.2100\n",
            "2     F00         2013               74704.8170\n",
            "3     F00         2014               79421.6943\n",
            "4     F00         2015               72919.2410\n"
          ]
        }
      ]
    },
    {
      "cell_type": "code",
      "source": [
        "import pandas as pd\n",
        "\n",
        "file_path = '/content/cleanednew5_fishing_areas.csv'\n",
        "df = pd.read_csv(file_path)\n",
        "\n",
        "# Find the index of the first occurrence of the year 2023 in the 'TIME_PERIOD' column\n",
        "index_2023 = df[df['TIME_PERIOD'] == 2023].index\n",
        "\n",
        "# If 2023 is found, keep only rows up to and including 2023\n",
        "if not index_2023.empty:\n",
        "    # Keep only rows up to and including the first occurrence of 2023\n",
        "    df_filtered = df.iloc[:index_2023[0] + 1]\n",
        "else:\n",
        "    # If 2023 is not found, keep the original dataframe\n",
        "    df_filtered = df\n",
        "\n",
        "filtered_file_path = 'dataset5.csv'\n",
        "df_filtered.to_csv(filtered_file_path, index=False)\n",
        "print(df.head())"
      ],
      "metadata": {
        "id": "U9q0DDpul8Tr",
        "colab": {
          "base_uri": "https://localhost:8080/"
        },
        "outputId": "2e58a9e5-ac16-471d-f4aa-b8554039b5b7"
      },
      "execution_count": null,
      "outputs": [
        {
          "output_type": "stream",
          "name": "stdout",
          "text": [
            "  species  TIME_PERIOD  OBS_VALUE in unit (TPW)\n",
            "0     F00         2011               69700.7450\n",
            "1     F00         2012               62349.2100\n",
            "2     F00         2013               74704.8170\n",
            "3     F00         2014               79421.6943\n",
            "4     F00         2015               72919.2410\n"
          ]
        }
      ]
    },
    {
      "cell_type": "code",
      "source": [
        "import pandas as pd\n",
        "\n",
        "file_path = '/content/dataset5.csv'\n",
        "df = pd.read_csv(file_path)\n",
        "\n",
        "# Filter the data to include only rows with TIME_PERIOD between 2011 and 2022 (inclusive)\n",
        "df = df[(df['TIME_PERIOD'] >= 2011) & (df['TIME_PERIOD'] <= 2022)]\n",
        "\n",
        "# Rename the column 'OBS_VALUE in unit (TLW)' to 'Catch Weight in unit (TLW)'\n",
        "df = df.rename(columns={'OBS_VALUE in unit (TPW)': 'Landings of Fishery Production in unit (TPW)'})\n",
        "\n",
        "# Remove the 'species' column\n",
        "if 'species' in df.columns:\n",
        "    df = df.drop(columns=['species'])\n",
        "\n",
        "modified_file_path = 'dataset_five.csv'\n",
        "df.to_csv(modified_file_path, index=False)\n",
        "print(df.head())"
      ],
      "metadata": {
        "id": "8H4dCQTLrwGp",
        "colab": {
          "base_uri": "https://localhost:8080/"
        },
        "outputId": "bf383e68-8ba1-4794-aef2-069cc30488e7"
      },
      "execution_count": null,
      "outputs": [
        {
          "output_type": "stream",
          "name": "stdout",
          "text": [
            "   TIME_PERIOD  Landings of Fishery Production in unit (TPW)\n",
            "0         2011                                    69700.7450\n",
            "1         2012                                    62349.2100\n",
            "2         2013                                    74704.8170\n",
            "3         2014                                    79421.6943\n",
            "4         2015                                    72919.2410\n"
          ]
        }
      ]
    },
    {
      "cell_type": "markdown",
      "source": [
        "Dataset 6"
      ],
      "metadata": {
        "id": "2i828QdamUpZ"
      }
    },
    {
      "cell_type": "code",
      "source": [
        "import pandas as pd\n",
        "\n",
        "file_path = '/content/Fishing fleet by age, length and gross tonnage.csv'\n",
        "df = pd.read_csv(file_path)\n",
        "\n",
        "# Remove specified columns\n",
        "columns_to_remove = ['DATAFLOW', 'LAST UPDATE','tonnage','length','age', 'freq', 'geo', 'OBS_FLAG']\n",
        "df = df.drop(columns=columns_to_remove)\n",
        "\n",
        "\n",
        "new_file_path = 'cleaned6Data.csv'\n",
        "df.to_csv(new_file_path, index=False)\n",
        "print(df.head())"
      ],
      "metadata": {
        "id": "YbzHTBZpmWj5",
        "colab": {
          "base_uri": "https://localhost:8080/"
        },
        "outputId": "a18f62a7-df94-4995-acdd-b9f64d075cf9"
      },
      "execution_count": null,
      "outputs": [
        {
          "output_type": "stream",
          "name": "stdout",
          "text": [
            "  unit  TIME_PERIOD  OBS_VALUE\n",
            "0   GT         2013      53503\n",
            "1   GT         2014      53431\n",
            "2   GT         2015      51765\n",
            "3   GT         2016      47931\n",
            "4   GT         2017      45601\n"
          ]
        }
      ]
    },
    {
      "cell_type": "code",
      "source": [
        "import pandas as pd\n",
        "\n",
        "file_path = '/content/cleaned6Data.csv'\n",
        "df = pd.read_csv(file_path)\n",
        "\n",
        "# Split the dataset into three tables based on the 'unit' column\n",
        "\n",
        "# GT table\n",
        "df_gt = df[df['unit'] == 'GT'].copy()  # Filter for GT\n",
        "df_gt = df_gt.drop(columns=['unit'])  # Remove the 'unit' column\n",
        "df_gt = df_gt.rename(columns={'OBS_VALUE': 'OBS_VALUE in unit (GT)'})  # Rename the OBS_VALUE column\n",
        "df_gt.to_csv('datset6GT.csv', index=False)\n",
        "print(df_gt.head)\n",
        "# KW table\n",
        "df_kw = df[df['unit'] == 'KW'].copy()  # Filter for KW\n",
        "df_kw = df_kw.drop(columns=['unit'])  # Remove the 'unit' column\n",
        "df_kw = df_kw.rename(columns={'OBS_VALUE': 'OBS_VALUE in unit (KW)'})  # Rename the OBS_VALUE column\n",
        "df_kw.to_csv('datset6KW.csv', index=False)\n",
        "print(df_kw.head)\n",
        "# NR table\n",
        "df_nr = df[df['unit'] == 'NR'].copy()  # Filter for NR\n",
        "df_nr = df_nr.drop(columns=['unit'])  # Remove the 'unit' column\n",
        "df_nr = df_nr.rename(columns={'OBS_VALUE': 'OBS_VALUE in unit (NR)'})  # Rename the OBS_VALUE column\n",
        "df_nr.to_csv('datset6NR.csv', index=False)\n",
        "print(df_nr.head)"
      ],
      "metadata": {
        "id": "qEJ5pVdPmmvC",
        "colab": {
          "base_uri": "https://localhost:8080/"
        },
        "outputId": "a4cd9632-8937-4a90-e85c-ecd41af6c549"
      },
      "execution_count": null,
      "outputs": [
        {
          "output_type": "stream",
          "name": "stdout",
          "text": [
            "<bound method NDFrame.head of     TIME_PERIOD  OBS_VALUE in unit (GT)\n",
            "0          2013                   53503\n",
            "1          2014                   53431\n",
            "2          2015                   51765\n",
            "3          2016                   47931\n",
            "4          2017                   45601\n",
            "5          2018                   44157\n",
            "6          2019                   44008\n",
            "7          2020                   43444\n",
            "8          2021                   43121\n",
            "9          2022                   42996\n",
            "10         2023                   42253>\n",
            "<bound method NDFrame.head of     TIME_PERIOD  OBS_VALUE in unit (KW)\n",
            "11         2013                  425635\n",
            "12         2014                  425005\n",
            "13         2015                  419177\n",
            "14         2016                  378891\n",
            "15         2017                  355843\n",
            "16         2018                  346556\n",
            "17         2019                  344870\n",
            "18         2020                  343382\n",
            "19         2021                  341898\n",
            "20         2022                  341187\n",
            "21         2023                  339035>\n",
            "<bound method NDFrame.head of     TIME_PERIOD  OBS_VALUE in unit (NR)\n",
            "22         2013                    7739\n",
            "23         2014                    7736\n",
            "24         2015                    7727\n",
            "25         2016                    7627\n",
            "26         2017                    7559\n",
            "27         2018                    7566\n",
            "28         2019                    7604\n",
            "29         2020                    7543\n",
            "30         2021                    7507\n",
            "31         2022                    7487\n",
            "32         2023                    7320>\n"
          ]
        }
      ]
    },
    {
      "cell_type": "code",
      "source": [
        "import pandas as pd\n",
        "\n",
        "\n",
        "file_path = '/content/datset6GT.csv'\n",
        "df = pd.read_csv(file_path)\n",
        "\n",
        "# Filter the data to include only rows with TIME_PERIOD between 2011 and 2022 (inclusive)\n",
        "df = df[(df['TIME_PERIOD'] >= 2011) & (df['TIME_PERIOD'] <= 2022)]\n",
        "\n",
        "# Rename the column 'OBS_VALUE in unit (TLW)' to 'Catch Weight in unit (TLW)'\n",
        "df = df.rename(columns={'OBS_VALUE in unit (GT)': 'Fishing Fleet in unit (GT)'})\n",
        "\n",
        "# Remove the 'species' column\n",
        "if 'species' in df.columns:\n",
        "    df = df.drop(columns=['species'])\n",
        "\n",
        "modified_file_path = 'dataset_sixGT.csv'\n",
        "df.to_csv(modified_file_path, index=False)\n",
        "print(df.head())"
      ],
      "metadata": {
        "id": "TKjaedDrsC6f",
        "colab": {
          "base_uri": "https://localhost:8080/"
        },
        "outputId": "8cbe0cc5-0a7e-4860-ac18-5c83039dd658"
      },
      "execution_count": null,
      "outputs": [
        {
          "output_type": "stream",
          "name": "stdout",
          "text": [
            "   TIME_PERIOD  Fishing Fleet in unit (GT)\n",
            "0         2013                       53503\n",
            "1         2014                       53431\n",
            "2         2015                       51765\n",
            "3         2016                       47931\n",
            "4         2017                       45601\n"
          ]
        }
      ]
    },
    {
      "cell_type": "code",
      "source": [
        "import pandas as pd\n",
        "\n",
        "file_path = '/content/datset6KW.csv'\n",
        "df = pd.read_csv(file_path)\n",
        "\n",
        "# Filter the data to include only rows with TIME_PERIOD between 2011 and 2022 (inclusive)\n",
        "df = df[(df['TIME_PERIOD'] >= 2011) & (df['TIME_PERIOD'] <= 2022)]\n",
        "\n",
        "# Rename the column 'OBS_VALUE in unit (TLW)' to 'Catch Weight in unit (TLW)'\n",
        "df = df.rename(columns={'OBS_VALUE in unit (KW)': 'Total Fishing Fleet Power in unit (KW)'})\n",
        "\n",
        "# Remove the 'species' column\n",
        "if 'species' in df.columns:\n",
        "    df = df.drop(columns=['species'])\n",
        "\n",
        "modified_file_path = 'dataset_sixKW.csv'\n",
        "df.to_csv(modified_file_path, index=False)\n",
        "print(df.head())"
      ],
      "metadata": {
        "id": "pe6LFKmhsuto",
        "colab": {
          "base_uri": "https://localhost:8080/"
        },
        "outputId": "67e9c5a6-4c17-4336-9eca-001dc8846e56"
      },
      "execution_count": null,
      "outputs": [
        {
          "output_type": "stream",
          "name": "stdout",
          "text": [
            "   TIME_PERIOD  Total Fishing Fleet Power in unit (KW)\n",
            "0         2013                                  425635\n",
            "1         2014                                  425005\n",
            "2         2015                                  419177\n",
            "3         2016                                  378891\n",
            "4         2017                                  355843\n"
          ]
        }
      ]
    },
    {
      "cell_type": "code",
      "source": [
        "import pandas as pd\n",
        "\n",
        "\n",
        "file_path = '/content/datset6NR.csv'\n",
        "df = pd.read_csv(file_path)\n",
        "\n",
        "# Filter the data to include only rows with TIME_PERIOD between 2011 and 2022\n",
        "df = df[(df['TIME_PERIOD'] >= 2011) & (df['TIME_PERIOD'] <= 2022)]\n",
        "\n",
        "# Rename the column\n",
        "df = df.rename(columns={'OBS_VALUE in unit (NR)': 'Total Fishing fleet vessel count in unit(NR)'})\n",
        "\n",
        "# Remove the 'species' column\n",
        "if 'species' in df.columns:\n",
        "    df = df.drop(columns=['species'])\n",
        "\n",
        "modified_file_path = 'dataset_sixNR.csv'\n",
        "df.to_csv(modified_file_path, index=False)\n",
        "print(df.head())"
      ],
      "metadata": {
        "id": "32viXXuLs-4M",
        "colab": {
          "base_uri": "https://localhost:8080/"
        },
        "outputId": "0aa071de-fb6a-490a-85c8-b19abc0b4f3f"
      },
      "execution_count": null,
      "outputs": [
        {
          "output_type": "stream",
          "name": "stdout",
          "text": [
            "   TIME_PERIOD  Total Fishing fleet vessel count in unit(NR)\n",
            "0         2013                                          7739\n",
            "1         2014                                          7736\n",
            "2         2015                                          7727\n",
            "3         2016                                          7627\n",
            "4         2017                                          7559\n"
          ]
        }
      ]
    },
    {
      "cell_type": "markdown",
      "source": [
        "Combine All Datasets"
      ],
      "metadata": {
        "id": "_bTFrGiAtr82"
      }
    },
    {
      "cell_type": "markdown",
      "source": [
        "Treat a missing values"
      ],
      "metadata": {
        "id": "E8mL4DVHulQS"
      }
    },
    {
      "cell_type": "code",
      "source": [
        "\n",
        "import pandas as pd\n",
        "\n",
        "# Load your datasets (CSV format)\n",
        "df1 = pd.read_csv('/content/dataset_one.csv')  # Catch Weight in unit (TLW)\n",
        "df2 = pd.read_csv('/content/dataset_two.csv')  # Input Weight for Capture-based Aquaculture in unit (TLW)\n",
        "df3 = pd.read_csv('/content/dataset_three.csv')  # Aquaculture Production in unit (TLW)\n",
        "df4 = pd.read_csv('/content/dataset_four.csv')  # Aquaculture Production at Juvenile stage in unit (MIO)\n",
        "df5 = pd.read_csv('/content/dataset_five.csv')  # Landings of Fishery Production in unit (TPW)\n",
        "df6 = pd.read_csv('/content/dataset_sixGT.csv')  # Fishing Fleet in unit (GT)\n",
        "df7 = pd.read_csv('/content/dataset_sixKW.csv')  # Total Fishing Fleet Power in unit (KW)\n",
        "df8 = pd.read_csv('/content/dataset_sixNR.csv')  # Total Fishing fleet vessel count in unit(NR)\n",
        "\n",
        "# Combine the datasets using the TIME_PERIOD column\n",
        "combined_df = df1[['TIME_PERIOD', 'Catch Weight in unit (TLW)']].copy()\n",
        "combined_df = combined_df.merge(df2[['TIME_PERIOD', 'Input Weight for Capture-based Aquaculture in unit (TLW)']], on='TIME_PERIOD', how='outer')\n",
        "combined_df = combined_df.merge(df3[['TIME_PERIOD', 'Aquaculture Production in unit (TLW)']], on='TIME_PERIOD', how='outer')\n",
        "combined_df = combined_df.merge(df4[['TIME_PERIOD', 'Aquaculture  Production at Juvenile stage in unit (MIO)']], on='TIME_PERIOD', how='outer')\n",
        "combined_df = combined_df.merge(df5[['TIME_PERIOD', 'Landings of Fishery Production in unit (TPW)']], on='TIME_PERIOD', how='outer')\n",
        "combined_df = combined_df.merge(df6[['TIME_PERIOD', 'Fishing Fleet in unit (GT)']], on='TIME_PERIOD', how='outer')\n",
        "combined_df = combined_df.merge(df7[['TIME_PERIOD', 'Total Fishing Fleet Power in unit (KW)']], on='TIME_PERIOD', how='outer')\n",
        "combined_df = combined_df.merge(df8[['TIME_PERIOD', 'Total Fishing fleet vessel count in unit(NR)']], on='TIME_PERIOD', how='outer')\n",
        "\n",
        "combined_df.to_csv('combined_dataset.csv', index=False)\n",
        "print(combined_df.head)"
      ],
      "metadata": {
        "id": "oPcTZqcFtvY9",
        "colab": {
          "base_uri": "https://localhost:8080/"
        },
        "outputId": "38312365-5b35-4cd3-e7ab-ac08c7c97452"
      },
      "execution_count": null,
      "outputs": [
        {
          "output_type": "stream",
          "name": "stdout",
          "text": [
            "<bound method NDFrame.head of     TIME_PERIOD  Catch Weight in unit (TLW)  \\\n",
            "0          2011                  70534.0200   \n",
            "1          2012                  63599.0200   \n",
            "2          2013                  75267.2310   \n",
            "3          2014                  79944.5442   \n",
            "4          2015                  73487.6321   \n",
            "5          2016                  72865.3443   \n",
            "6          2017                  69561.0500   \n",
            "7          2018                  70068.3000   \n",
            "8          2019                  64019.9247   \n",
            "9          2020                  71222.5545   \n",
            "10         2021                  62039.2585   \n",
            "11         2022                  63492.5710   \n",
            "\n",
            "    Input Weight for Capture-based Aquaculture in unit (TLW)  \\\n",
            "0                                             361.550          \n",
            "1                                             378.360          \n",
            "2                                             378.360          \n",
            "3                                             376.300          \n",
            "4                                             436.220          \n",
            "5                                             432.070          \n",
            "6                                             581.801          \n",
            "7                                             673.119          \n",
            "8                                             745.047          \n",
            "9                                            1294.016          \n",
            "10                                            812.486          \n",
            "11                                            689.889          \n",
            "\n",
            "    Aquaculture Production in unit (TLW)  \\\n",
            "0                              17189.000   \n",
            "1                              13921.450   \n",
            "2                              13719.710   \n",
            "3                              13767.800   \n",
            "4                              16875.100   \n",
            "5                              17268.980   \n",
            "6                              17114.300   \n",
            "7                              19680.250   \n",
            "8                              20443.945   \n",
            "9                              21770.690   \n",
            "10                             27919.839   \n",
            "11                             27217.730   \n",
            "\n",
            "    Aquaculture  Production at Juvenile stage in unit (MIO)  \\\n",
            "0                                              80.390         \n",
            "1                                             128.760         \n",
            "2                                             122.290         \n",
            "3                                             136.000         \n",
            "4                                             111.030         \n",
            "5                                             129.990         \n",
            "6                                             139.000         \n",
            "7                                              52.591         \n",
            "8                                              57.793         \n",
            "9                                              47.440         \n",
            "10                                             76.912         \n",
            "11                                             73.777         \n",
            "\n",
            "    Landings of Fishery Production in unit (TPW)  Fishing Fleet in unit (GT)  \\\n",
            "0                                     69700.7450                         NaN   \n",
            "1                                     62349.2100                         NaN   \n",
            "2                                     74704.8170                     53503.0   \n",
            "3                                     79421.6943                     53431.0   \n",
            "4                                     72919.2410                     51765.0   \n",
            "5                                     72327.4095                     47931.0   \n",
            "6                                     68815.0814                     45601.0   \n",
            "7                                     69360.6061                     44157.0   \n",
            "8                                     63200.9751                     44008.0   \n",
            "9                                     70325.6582                     43444.0   \n",
            "10                                    61153.9197                     43121.0   \n",
            "11                                    62607.8225                     42996.0   \n",
            "\n",
            "    Total Fishing Fleet Power in unit (KW)  \\\n",
            "0                                      NaN   \n",
            "1                                      NaN   \n",
            "2                                 425635.0   \n",
            "3                                 425005.0   \n",
            "4                                 419177.0   \n",
            "5                                 378891.0   \n",
            "6                                 355843.0   \n",
            "7                                 346556.0   \n",
            "8                                 344870.0   \n",
            "9                                 343382.0   \n",
            "10                                341898.0   \n",
            "11                                341187.0   \n",
            "\n",
            "    Total Fishing fleet vessel count in unit(NR)  \n",
            "0                                            NaN  \n",
            "1                                            NaN  \n",
            "2                                         7739.0  \n",
            "3                                         7736.0  \n",
            "4                                         7727.0  \n",
            "5                                         7627.0  \n",
            "6                                         7559.0  \n",
            "7                                         7566.0  \n",
            "8                                         7604.0  \n",
            "9                                         7543.0  \n",
            "10                                        7507.0  \n",
            "11                                        7487.0  >\n"
          ]
        }
      ]
    },
    {
      "cell_type": "code",
      "source": [
        "import pandas as pd\n",
        "\n",
        "df = pd.read_csv('/content/combined_dataset.csv')\n",
        "\n",
        "# Calculate mean values for each column from the years\n",
        "mean_GT = df['Fishing Fleet in unit (GT)'].mean()\n",
        "mean_KW = df['Total Fishing Fleet Power in unit (KW)'].mean()\n",
        "mean_NR = df['Total Fishing fleet vessel count in unit(NR)'].mean()\n",
        "\n",
        "# Fill missing values for the years 2011 and 2012\n",
        "df.loc[df['TIME_PERIOD'].isin([2011, 2012]), 'Fishing Fleet in unit (GT)'] = mean_GT\n",
        "df.loc[df['TIME_PERIOD'].isin([2011, 2012]), 'Total Fishing Fleet Power in unit (KW)'] = mean_KW\n",
        "df.loc[df['TIME_PERIOD'].isin([2011, 2012]), 'Total Fishing fleet vessel count in unit(NR)'] = mean_NR\n",
        "\n",
        "# Verify missing values\n",
        "print(df.isnull().sum())\n",
        "# Show the results\n",
        "print(df.head())  # Display the first few rows\n",
        "output_file = 'No_mising file_dataset.csv'\n",
        "df.to_csv(output_file, index=False)\n"
      ],
      "metadata": {
        "colab": {
          "base_uri": "https://localhost:8080/"
        },
        "id": "ID_FB6E-unqT",
        "outputId": "37967d31-f54a-46b1-d7db-065db4ef052c"
      },
      "execution_count": null,
      "outputs": [
        {
          "output_type": "stream",
          "name": "stdout",
          "text": [
            "TIME_PERIOD                                                 0\n",
            "Catch Weight in unit (TLW)                                  0\n",
            "Input Weight for Capture-based Aquaculture in unit (TLW)    0\n",
            "Aquaculture Production in unit (TLW)                        0\n",
            "Aquaculture  Production at Juvenile stage in unit (MIO)     0\n",
            "Landings of Fishery Production in unit (TPW)                0\n",
            "Fishing Fleet in unit (GT)                                  0\n",
            "Total Fishing Fleet Power in unit (KW)                      0\n",
            "Total Fishing fleet vessel count in unit(NR)                0\n",
            "dtype: int64\n",
            "   TIME_PERIOD  Catch Weight in unit (TLW)  \\\n",
            "0         2011                  70534.0200   \n",
            "1         2012                  63599.0200   \n",
            "2         2013                  75267.2310   \n",
            "3         2014                  79944.5442   \n",
            "4         2015                  73487.6321   \n",
            "\n",
            "   Input Weight for Capture-based Aquaculture in unit (TLW)  \\\n",
            "0                                             361.55          \n",
            "1                                             378.36          \n",
            "2                                             378.36          \n",
            "3                                             376.30          \n",
            "4                                             436.22          \n",
            "\n",
            "   Aquaculture Production in unit (TLW)  \\\n",
            "0                              17189.00   \n",
            "1                              13921.45   \n",
            "2                              13719.71   \n",
            "3                              13767.80   \n",
            "4                              16875.10   \n",
            "\n",
            "   Aquaculture  Production at Juvenile stage in unit (MIO)  \\\n",
            "0                                              80.39         \n",
            "1                                             128.76         \n",
            "2                                             122.29         \n",
            "3                                             136.00         \n",
            "4                                             111.03         \n",
            "\n",
            "   Landings of Fishery Production in unit (TPW)  Fishing Fleet in unit (GT)  \\\n",
            "0                                    69700.7450                     46995.7   \n",
            "1                                    62349.2100                     46995.7   \n",
            "2                                    74704.8170                     53503.0   \n",
            "3                                    79421.6943                     53431.0   \n",
            "4                                    72919.2410                     51765.0   \n",
            "\n",
            "   Total Fishing Fleet Power in unit (KW)  \\\n",
            "0                                372244.4   \n",
            "1                                372244.4   \n",
            "2                                425635.0   \n",
            "3                                425005.0   \n",
            "4                                419177.0   \n",
            "\n",
            "   Total Fishing fleet vessel count in unit(NR)  \n",
            "0                                        7609.5  \n",
            "1                                        7609.5  \n",
            "2                                        7739.0  \n",
            "3                                        7736.0  \n",
            "4                                        7727.0  \n"
          ]
        }
      ]
    },
    {
      "cell_type": "code",
      "source": [],
      "metadata": {
        "id": "r87hKCnXu6uZ"
      },
      "execution_count": null,
      "outputs": []
    },
    {
      "cell_type": "markdown",
      "source": [
        "Checking for duplication, Rounded and Outlier detected"
      ],
      "metadata": {
        "id": "wzbhyiFlvAF7"
      }
    },
    {
      "cell_type": "code",
      "source": [
        "import pandas as pd\n",
        "\n",
        "\n",
        "df = pd.read_csv('/content/No_mising file_dataset.csv')\n",
        "\n",
        "# Check for duplicates\n",
        "duplicate_count = df.duplicated().sum()  # Count duplicates\n",
        "print(f\"Total number of duplicate rows: {duplicate_count}\")\n",
        "\n",
        "# display the duplicate rows\n",
        "if duplicate_count > 0:\n",
        "    duplicates = df[df.duplicated(keep=False)]  # keep=False shows all duplicates\n",
        "    print(\"\\nDuplicate Rows:\")\n",
        "    print(duplicates)\n",
        "else:\n",
        "    print(\"No duplicate rows found.\")\n",
        "\n",
        "\n",
        "# Round to two decimal places\n",
        "df.iloc[:, 1:] = df.iloc[:, 1:].round(2)  # Round all columns except TIME_PERIOD\n",
        "# Function to detect outliers using the IQR method\n",
        "def detect_outliers_iqr(data):\n",
        "    #  Q1 and Q3\n",
        "    Q1 = data.quantile(0.25)\n",
        "    Q3 = data.quantile(0.75)\n",
        "\n",
        "    #  IQR\n",
        "    IQR = Q3 - Q1\n",
        "\n",
        "    # bounds for outliers\n",
        "    lower_bound = Q1 - 1.5 * IQR\n",
        "    upper_bound = Q3 + 1.5 * IQR\n",
        "\n",
        "    # outliers\n",
        "    outliers = ((data < lower_bound) | (data > upper_bound))\n",
        "\n",
        "    return outliers\n",
        "\n",
        "# Check for outliers in numeric columns\n",
        "outlier_results = {}\n",
        "\n",
        "for column in df.select_dtypes(include=['float64']).columns:\n",
        "    outlier_results[column] = detect_outliers_iqr(df[column])\n",
        "\n",
        "# Display the outliers for each numeric column\n",
        "for column, is_outlier in outlier_results.items():\n",
        "    if is_outlier.any():\n",
        "        print(f\"\\nOutliers detected in '{column}':\")\n",
        "        print(df[column][is_outlier])\n",
        "    else:\n",
        "        print(f\"\\nNo outliers detected in '{column}'.\")\n",
        "output_file = 'Rounded_dataset.csv'\n",
        "df.to_csv(output_file, index=False)"
      ],
      "metadata": {
        "colab": {
          "base_uri": "https://localhost:8080/"
        },
        "id": "1oo2Zo-SvCs8",
        "outputId": "a5dfec38-3bbf-461b-bebd-59bb4518fe58"
      },
      "execution_count": null,
      "outputs": [
        {
          "output_type": "stream",
          "name": "stdout",
          "text": [
            "Total number of duplicate rows: 0\n",
            "No duplicate rows found.\n",
            "\n",
            "No outliers detected in 'Catch Weight in unit (TLW)'.\n",
            "\n",
            "Outliers detected in 'Input Weight for Capture-based Aquaculture in unit (TLW)':\n",
            "9    1294.02\n",
            "Name: Input Weight for Capture-based Aquaculture in unit (TLW), dtype: float64\n",
            "\n",
            "Outliers detected in 'Aquaculture Production in unit (TLW)':\n",
            "10    27919.84\n",
            "Name: Aquaculture Production in unit (TLW), dtype: float64\n",
            "\n",
            "No outliers detected in 'Aquaculture  Production at Juvenile stage in unit (MIO)'.\n",
            "\n",
            "No outliers detected in 'Landings of Fishery Production in unit (TPW)'.\n",
            "\n",
            "No outliers detected in 'Fishing Fleet in unit (GT)'.\n",
            "\n",
            "No outliers detected in 'Total Fishing Fleet Power in unit (KW)'.\n",
            "\n",
            "No outliers detected in 'Total Fishing fleet vessel count in unit(NR)'.\n"
          ]
        }
      ]
    },
    {
      "cell_type": "markdown",
      "source": [
        "Treating Outliers"
      ],
      "metadata": {
        "id": "WIBsK7BRv1uV"
      }
    },
    {
      "cell_type": "code",
      "source": [
        "import pandas as pd\n",
        "\n",
        "df = pd.read_csv('/content/Rounded_dataset.csv')\n",
        "\n",
        "df.iloc[:, 1:] = df.iloc[:, 1:].round(2)  # Round all columns except TIME_PERIOD\n",
        "\n",
        "# Function to detect and remove outliers using the IQR method\n",
        "def remove_outliers_iqr(data, column_name):\n",
        "    # Calculate Q1 (25th percentile) and Q3 (75th percentile)\n",
        "    Q1 = data[column_name].quantile(0.25)\n",
        "    Q3 = data[column_name].quantile(0.75)\n",
        "\n",
        "    # Calculate IQR\n",
        "    IQR = Q3 - Q1\n",
        "\n",
        "    # Define bounds for outliers\n",
        "    lower_bound = Q1 - 1.5 * IQR\n",
        "    upper_bound = Q3 + 1.5 * IQR\n",
        "\n",
        "    # Remove outliers\n",
        "    data_no_outliers = data[(data[column_name] >= lower_bound) & (data[column_name] <= upper_bound)]\n",
        "\n",
        "    return data_no_outliers\n",
        "\n",
        "# Define the columns with detected outliers\n",
        "outlier_columns = [\n",
        "    'Input Weight for Capture-based Aquaculture in unit (TLW)',\n",
        "    'Aquaculture Production in unit (TLW)'\n",
        "]\n",
        "\n",
        "# Remove outliers for each specified column\n",
        "for column in outlier_columns:\n",
        "    df = remove_outliers_iqr(df, column)\n",
        "\n",
        "# Save the cleaned dataset\n",
        "df.to_csv('no_outliers.csv', index=False)\n",
        "\n",
        "# Function to check for outliers\n",
        "def check_outliers(data, column_name):\n",
        "    Q1 = data[column_name].quantile(0.25)\n",
        "    Q3 = data[column_name].quantile(0.75)\n",
        "    IQR = Q3 - Q1\n",
        "    lower_bound = Q1 - 1.5 * IQR\n",
        "    upper_bound = Q3 + 1.5 * IQR\n",
        "    outliers = data[(data[column_name] < lower_bound) | (data[column_name] > upper_bound)]\n",
        "\n",
        "    return outliers\n",
        "\n",
        "# Check for remaining outliers in the specified columns\n",
        "for column in outlier_columns:\n",
        "    outliers = check_outliers(df, column)\n",
        "    if outliers.empty:\n",
        "        print(f\"No outliers detected in '{column}'.\")\n",
        "    else:\n",
        "        print(f\"Remaining outliers detected in '{column}':\")\n",
        "        print(outliers)\n"
      ],
      "metadata": {
        "colab": {
          "base_uri": "https://localhost:8080/"
        },
        "id": "M_oHcFWjwBgC",
        "outputId": "e5593380-1948-47bf-8832-4f7f48c0c447"
      },
      "execution_count": null,
      "outputs": [
        {
          "output_type": "stream",
          "name": "stdout",
          "text": [
            "No outliers detected in 'Input Weight for Capture-based Aquaculture in unit (TLW)'.\n",
            "No outliers detected in 'Aquaculture Production in unit (TLW)'.\n"
          ]
        }
      ]
    },
    {
      "cell_type": "markdown",
      "source": [
        "Adding some features"
      ],
      "metadata": {
        "id": "fcF-KDY01FCj"
      }
    },
    {
      "cell_type": "code",
      "source": [
        "import pandas as pd\n",
        "\n",
        "\n",
        "combined_df = pd.read_csv('/content/no_outliers.csv')\n",
        "\n",
        "# Calculate Fleet Utilization Ratio\n",
        "combined_df['Fleet Utilization Ratio'] = combined_df['Catch Weight in unit (TLW)'] / combined_df['Total Fishing fleet vessel count in unit(NR)']\n",
        "\n",
        "# Calculate Weighted Fleet Efficiency Index\n",
        "combined_df['Weighted Fleet Efficiency Index'] = (combined_df['Total Fishing Fleet Power in unit (KW)'] / combined_df['Total Fishing fleet vessel count in unit(NR)'])\n",
        "\n",
        "# Calculate Production per Unit Fleet Power\n",
        "combined_df['Production per Unit Fleet Power'] = combined_df['Catch Weight in unit (TLW)'] / combined_df['Total Fishing Fleet Power in unit (KW)']\n",
        "# Round all features to 2 decimal places\n",
        "combined_df = combined_df.round(2)\n",
        "# Save the updated DataFrame to a new CSV file\n",
        "combined_df.to_csv('Updated_data.csv', index=False)\n",
        "\n",
        "# Display the updated DataFrame with new features\n",
        "print(combined_df[['Fleet Utilization Ratio', 'Weighted Fleet Efficiency Index', 'Production per Unit Fleet Power']])\n",
        "\n"
      ],
      "metadata": {
        "colab": {
          "base_uri": "https://localhost:8080/"
        },
        "id": "KCarfKMY1HRg",
        "outputId": "a7ba906c-72a9-4ebc-aed9-2bb27b696e24"
      },
      "execution_count": null,
      "outputs": [
        {
          "output_type": "stream",
          "name": "stdout",
          "text": [
            "   Fleet Utilization Ratio  Weighted Fleet Efficiency Index  \\\n",
            "0                     9.27                            48.92   \n",
            "1                     8.36                            48.92   \n",
            "2                     9.73                            55.00   \n",
            "3                    10.33                            54.94   \n",
            "4                     9.51                            54.25   \n",
            "5                     9.55                            49.68   \n",
            "6                     9.20                            47.08   \n",
            "7                     9.26                            45.80   \n",
            "8                     8.42                            45.35   \n",
            "\n",
            "   Production per Unit Fleet Power  \n",
            "0                             0.19  \n",
            "1                             0.17  \n",
            "2                             0.18  \n",
            "3                             0.19  \n",
            "4                             0.18  \n",
            "5                             0.19  \n",
            "6                             0.20  \n",
            "7                             0.20  \n",
            "8                             0.19  \n"
          ]
        }
      ]
    },
    {
      "cell_type": "markdown",
      "source": [
        "correlation heat map"
      ],
      "metadata": {
        "id": "9qapVVYh1RK0"
      }
    },
    {
      "cell_type": "code",
      "source": [
        "import seaborn as sns\n",
        "import matplotlib.pyplot as plt\n",
        "\n",
        "# Calculate the correlation matrix\n",
        "correlation_matrix = combined_df.corr()\n",
        "\n",
        "# Plot a heatmap\n",
        "plt.figure(figsize=(10, 8))\n",
        "sns.heatmap(correlation_matrix, annot=True, fmt=\".2f\", cmap='coolwarm')\n",
        "plt.title('Correlation Heatmap')\n",
        "plt.show()\n"
      ],
      "metadata": {
        "colab": {
          "base_uri": "https://localhost:8080/",
          "height": 750
        },
        "id": "UgHTma3t1TUs",
        "outputId": "6062154f-af94-4d29-d99d-7ded6678c6f1"
      },
      "execution_count": null,
      "outputs": [
        {
          "output_type": "display_data",
          "data": {
            "text/plain": [
              "<Figure size 1000x800 with 2 Axes>"
            ],
            "image/png": "[encoded data removed]"
          },
          "metadata": {}
        }
      ]
    },
    {
      "cell_type": "markdown",
      "source": [
        "Adding Catagorical feature"
      ],
      "metadata": {
        "id": "Fyy6hDPp2GxG"
      }
    },
    {
      "cell_type": "code",
      "source": [
        "import pandas as pd\n",
        "combined_df = pd.read_csv('/content/Updated_data.csv')\n",
        "\n",
        "# Add a new string format column based on Fleet Utilization Ratio\n",
        "def categorize_utilization(ratio):\n",
        "    if ratio < 8.6:\n",
        "        return 'Low'\n",
        "    elif 8.6 <= ratio < 9.5:\n",
        "        return 'Medium'\n",
        "    else:\n",
        "        return 'High'\n",
        "\n",
        "# Assuming 'Fleet Utilization Ratio' is one of the columns\n",
        "combined_df['Utilization Category'] = combined_df['Fleet Utilization Ratio'].apply(categorize_utilization)\n",
        "\n",
        "# Save the modified\n",
        "output_file_path = 'category.csv'  # Specify your output file name\n",
        "combined_df.to_csv(output_file_path, index=False)\n",
        "\n",
        "# Display\n",
        "print(combined_df.head())\n"
      ],
      "metadata": {
        "colab": {
          "base_uri": "https://localhost:8080/"
        },
        "id": "bkPHNPDG2JlF",
        "outputId": "aa02a18f-7ff5-4167-80a9-1f886807bc41"
      },
      "execution_count": null,
      "outputs": [
        {
          "output_type": "stream",
          "name": "stdout",
          "text": [
            "   TIME_PERIOD  Catch Weight in unit (TLW)  \\\n",
            "0         2011                    70534.02   \n",
            "1         2012                    63599.02   \n",
            "2         2013                    75267.23   \n",
            "3         2014                    79944.54   \n",
            "4         2015                    73487.63   \n",
            "\n",
            "   Input Weight for Capture-based Aquaculture in unit (TLW)  \\\n",
            "0                                             361.55          \n",
            "1                                             378.36          \n",
            "2                                             378.36          \n",
            "3                                             376.30          \n",
            "4                                             436.22          \n",
            "\n",
            "   Aquaculture Production in unit (TLW)  \\\n",
            "0                              17189.00   \n",
            "1                              13921.45   \n",
            "2                              13719.71   \n",
            "3                              13767.80   \n",
            "4                              16875.10   \n",
            "\n",
            "   Aquaculture  Production at Juvenile stage in unit (MIO)  \\\n",
            "0                                              80.39         \n",
            "1                                             128.76         \n",
            "2                                             122.29         \n",
            "3                                             136.00         \n",
            "4                                             111.03         \n",
            "\n",
            "   Landings of Fishery Production in unit (TPW)  Fishing Fleet in unit (GT)  \\\n",
            "0                                      69700.74                     46995.7   \n",
            "1                                      62349.21                     46995.7   \n",
            "2                                      74704.82                     53503.0   \n",
            "3                                      79421.69                     53431.0   \n",
            "4                                      72919.24                     51765.0   \n",
            "\n",
            "   Total Fishing Fleet Power in unit (KW)  \\\n",
            "0                                372244.4   \n",
            "1                                372244.4   \n",
            "2                                425635.0   \n",
            "3                                425005.0   \n",
            "4                                419177.0   \n",
            "\n",
            "   Total Fishing fleet vessel count in unit(NR)  Fleet Utilization Ratio  \\\n",
            "0                                        7609.5                     9.27   \n",
            "1                                        7609.5                     8.36   \n",
            "2                                        7739.0                     9.73   \n",
            "3                                        7736.0                    10.33   \n",
            "4                                        7727.0                     9.51   \n",
            "\n",
            "   Weighted Fleet Efficiency Index  Production per Unit Fleet Power  \\\n",
            "0                            48.92                             0.19   \n",
            "1                            48.92                             0.17   \n",
            "2                            55.00                             0.18   \n",
            "3                            54.94                             0.19   \n",
            "4                            54.25                             0.18   \n",
            "\n",
            "  Utilization Category  \n",
            "0               Medium  \n",
            "1                  Low  \n",
            "2                 High  \n",
            "3                 High  \n",
            "4                 High  \n"
          ]
        }
      ]
    },
    {
      "cell_type": "markdown",
      "source": [
        "Standardize the cleaned dataset"
      ],
      "metadata": {
        "id": "Y8FcDJRU22wS"
      }
    },
    {
      "cell_type": "code",
      "source": [
        "import pandas as pd\n",
        "from sklearn.preprocessing import StandardScaler\n",
        "\n",
        "combined_df = pd.read_csv('/content/category.csv')\n",
        "\n",
        "# Identify columns to standardize (exclude 'TIME_PERIOD' and 'Utilization Category')\n",
        "columns_to_standardize = combined_df.columns.difference(['TIME_PERIOD', 'Utilization Category'])\n",
        "\n",
        "# Initialize the StandardScaler\n",
        "scaler = StandardScaler()\n",
        "\n",
        "# Fit and transform the features, excluding the specified columns\n",
        "combined_df[columns_to_standardize] = scaler.fit_transform(combined_df[columns_to_standardize])\n",
        "\n",
        "# Round the values to 2 decimal places\n",
        "combined_df = combined_df.round(2)\n",
        "\n",
        "\n",
        "output_file_path = 'Standardized_output.csv'\n",
        "combined_df.to_csv(output_file_path, index=False)\n",
        "\n",
        "print(combined_df.head())\n"
      ],
      "metadata": {
        "colab": {
          "base_uri": "https://localhost:8080/"
        },
        "id": "uQf3ZHLr27zP",
        "outputId": "7b64dee4-d124-46cc-e3ef-93232994c212"
      },
      "execution_count": null,
      "outputs": [
        {
          "output_type": "stream",
          "name": "stdout",
          "text": [
            "   TIME_PERIOD  Catch Weight in unit (TLW)  \\\n",
            "0         2011                       -0.10   \n",
            "1         2012                       -1.52   \n",
            "2         2013                        0.87   \n",
            "3         2014                        1.82   \n",
            "4         2015                        0.50   \n",
            "\n",
            "   Input Weight for Capture-based Aquaculture in unit (TLW)  \\\n",
            "0                                              -0.90          \n",
            "1                                              -0.78          \n",
            "2                                              -0.78          \n",
            "3                                              -0.80          \n",
            "4                                              -0.36          \n",
            "\n",
            "   Aquaculture Production in unit (TLW)  \\\n",
            "0                                  0.23   \n",
            "1                                 -1.18   \n",
            "2                                 -1.26   \n",
            "3                                 -1.24   \n",
            "4                                  0.09   \n",
            "\n",
            "   Aquaculture  Production at Juvenile stage in unit (MIO)  \\\n",
            "0                                              -0.81         \n",
            "1                                               0.70         \n",
            "2                                               0.50         \n",
            "3                                               0.92         \n",
            "4                                               0.14         \n",
            "\n",
            "   Landings of Fishery Production in unit (TPW)  Fishing Fleet in unit (GT)  \\\n",
            "0                                         -0.12                       -0.36   \n",
            "1                                         -1.57                       -0.36   \n",
            "2                                          0.87                        1.49   \n",
            "3                                          1.80                        1.47   \n",
            "4                                          0.52                        0.99   \n",
            "\n",
            "   Total Fishing Fleet Power in unit (KW)  \\\n",
            "0                                   -0.32   \n",
            "1                                   -0.32   \n",
            "2                                    1.40   \n",
            "3                                    1.38   \n",
            "4                                    1.19   \n",
            "\n",
            "   Total Fishing fleet vessel count in unit(NR)  Fleet Utilization Ratio  \\\n",
            "0                                         -0.47                    -0.04   \n",
            "1                                         -0.47                    -1.61   \n",
            "2                                          1.42                     0.76   \n",
            "3                                          1.38                     1.79   \n",
            "4                                          1.25                     0.38   \n",
            "\n",
            "   Weighted Fleet Efficiency Index  Production per Unit Fleet Power  \\\n",
            "0                            -0.30                             0.24   \n",
            "1                            -0.30                            -1.94   \n",
            "2                             1.38                            -0.85   \n",
            "3                             1.37                             0.24   \n",
            "4                             1.18                            -0.85   \n",
            "\n",
            "  Utilization Category  \n",
            "0               Medium  \n",
            "1                  Low  \n",
            "2                 High  \n",
            "3                 High  \n",
            "4                 High  \n"
          ]
        }
      ]
    }
  ]
}